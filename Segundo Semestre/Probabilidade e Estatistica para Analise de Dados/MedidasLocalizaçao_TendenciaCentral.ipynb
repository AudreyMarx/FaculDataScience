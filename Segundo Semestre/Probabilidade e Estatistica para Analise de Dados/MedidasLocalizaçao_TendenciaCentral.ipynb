{
 "cells": [
  {
   "cell_type": "code",
   "execution_count": 21,
   "metadata": {},
   "outputs": [
    {
     "name": "stdout",
     "output_type": "stream",
     "text": [
      "{'loja': ['Loja A', 'Loja B', 'Loja C', 'Loja D', 'Loja E', 'Loja F', 'Loja G', 'Loja H'], 'algodao_fio24': [130, 145, 122, 130, 175, 137, 241, 133], 'poliester_comum': [125, 112, 84, 126, 144, 108, 119, 139], 'poliester_uv': [75, 85, 85, 85, 72, 86, 91, 72], 'total': [330, 342, 291, 341, 391, 331, 334, 344]}\n"
     ]
    }
   ],
   "source": [
    "import pandas as pd\n",
    "\n",
    "dicio = {'loja':[\"Loja A\", \"Loja B\", \"Loja C\", \"Loja D\", \"Loja E\", \"Loja F\", \"Loja G\", \"Loja H\"],\n",
    "        'algodao_fio24':[130, 145, 122, 130, 175, 137, 241, 133],\n",
    "        'poliester_comum':[125, 112, 84, 126, 144, 108, 119, 139],\n",
    "        'poliester_uv':[75, 85, 85, 85, 72, 86, 91, 72],\n",
    "        'total':[sum([dicio['algodao_fio24'][i], dicio['poliester_comum'][i], dicio['poliester_uv'][i]]) for i in range(len(dicio['loja']))]}\n",
    "\n",
    "print(dicio)\n"
   ]
  },
  {
   "cell_type": "code",
   "execution_count": 22,
   "metadata": {},
   "outputs": [
    {
     "name": "stdout",
     "output_type": "stream",
     "text": [
      "     loja  algodao_fio24  poliester_comum  poliester_uv  total\n",
      "0  Loja A            130              125            75    330\n",
      "1  Loja B            145              112            85    342\n",
      "2  Loja C            122               84            85    291\n",
      "3  Loja D            130              126            85    341\n",
      "4  Loja E            175              144            72    391\n",
      "5  Loja F            137              108            86    331\n",
      "6  Loja G            241              119            91    334\n",
      "7  Loja H            133              139            72    344\n"
     ]
    }
   ],
   "source": [
    "dados = pd.DataFrame(dicio)\n",
    "print(dados)"
   ]
  },
  {
   "cell_type": "code",
   "execution_count": 23,
   "metadata": {},
   "outputs": [
    {
     "name": "stdout",
     "output_type": "stream",
     "text": [
      "        algodao_fio24  poliester_comum  poliester_uv  total\n",
      "loja                                                       \n",
      "Loja A            130              125            75    330\n",
      "Loja B            145              112            85    342\n",
      "Loja C            122               84            85    291\n",
      "Loja D            130              126            85    341\n",
      "Loja E            175              144            72    391\n",
      "Loja F            137              108            86    331\n",
      "Loja G            241              119            91    334\n",
      "Loja H            133              139            72    344\n"
     ]
    }
   ],
   "source": [
    "df = dados.set_index('loja')\n",
    "print(df)"
   ]
  },
  {
   "cell_type": "code",
   "execution_count": 35,
   "metadata": {},
   "outputs": [
    {
     "name": "stdout",
     "output_type": "stream",
     "text": [
      "151.625\n",
      "135.0\n",
      "130\n"
     ]
    }
   ],
   "source": [
    "media_alg24 = df['algodao_fio24'].mean()\n",
    "mediana_alg24 = df['algodao_fio24'].median()\n",
    "moda_alg24 = df['algodao_fio24'].mode().values[0]\n",
    "\n",
    "print(media_alg24)\n",
    "print(mediana_alg24)\n",
    "print(moda_alg24)"
   ]
  },
  {
   "cell_type": "code",
   "execution_count": 36,
   "metadata": {},
   "outputs": [
    {
     "name": "stdout",
     "output_type": "stream",
     "text": [
      "119.625\n",
      "122.0\n",
      "84\n"
     ]
    }
   ],
   "source": [
    "media_poli_comum = df['poliester_comum'].mean()\n",
    "mediana_poli_comum = df['poliester_comum'].median()\n",
    "moda_poli_comum = df['poliester_comum'].mode().values[0]\n",
    "\n",
    "print(media_poli_comum)\n",
    "print(mediana_poli_comum)\n",
    "print(moda_poli_comum)"
   ]
  },
  {
   "cell_type": "code",
   "execution_count": 37,
   "metadata": {},
   "outputs": [
    {
     "name": "stdout",
     "output_type": "stream",
     "text": [
      "81.375\n",
      "85.0\n",
      "85\n"
     ]
    }
   ],
   "source": [
    "media_poli_uv = df['poliester_uv'].mean()\n",
    "mediana_poli_uv = df['poliester_uv'].median()\n",
    "moda_poli_uv = df['poliester_uv'].mode().values[0]\n",
    "\n",
    "print(media_poli_uv)\n",
    "print(mediana_poli_uv)\n",
    "print(moda_poli_uv)"
   ]
  },
  {
   "cell_type": "code",
   "execution_count": 39,
   "metadata": {},
   "outputs": [
    {
     "name": "stdout",
     "output_type": "stream",
     "text": [
      "             coluna     mean  median  \\\n",
      "0     algodao_fio24  151.625     NaN   \n",
      "1     algodao_fio24      NaN   135.0   \n",
      "2     algodao_fio24      NaN     NaN   \n",
      "3   poliester_comum  119.625     NaN   \n",
      "4   poliester_comum      NaN   122.0   \n",
      "5   poliester_comum      NaN     NaN   \n",
      "6      poliester_uv   81.375     NaN   \n",
      "7      poliester_uv      NaN    85.0   \n",
      "8      poliester_uv      NaN     NaN   \n",
      "9             total  338.000     NaN   \n",
      "10            total      NaN   337.5   \n",
      "11            total      NaN     NaN   \n",
      "\n",
      "                                                 mode  \n",
      "0                                                 NaN  \n",
      "1                                                 NaN  \n",
      "2          0    130\n",
      "Name: algodao_fio24, dtype: int64  \n",
      "3                                                 NaN  \n",
      "4                                                 NaN  \n",
      "5   0     84\n",
      "1    108\n",
      "2    112\n",
      "3    119\n",
      "4    125\n",
      "5...  \n",
      "6                                                 NaN  \n",
      "7                                                 NaN  \n",
      "8            0    85\n",
      "Name: poliester_uv, dtype: int64  \n",
      "9                                                 NaN  \n",
      "10                                                NaN  \n",
      "11  0    291\n",
      "1    330\n",
      "2    331\n",
      "3    334\n",
      "4    341\n",
      "5...  \n"
     ]
    }
   ],
   "source": [
    "# Lista de estatísticas\n",
    "estatisticas = ['mean', 'median', 'mode']\n",
    "\n",
    "# Criando um DataFrame vazio para armazenar as estatísticas\n",
    "estatisticas_df = pd.DataFrame(columns=['coluna', 'media', 'mediana', 'moda'])\n",
    "# Lista para armazenar os dicionários de estatísticas\n",
    "dados_estatisticas = []\n",
    "# Loop para calcular estatísticas para cada coluna\n",
    "for coluna in df.columns:\n",
    "    for estatistica in estatisticas:\n",
    "        valor_estatistica = getattr(df[coluna], estatistica)()\n",
    "        dados_estatisticas.append({'coluna': coluna, estatistica: valor_estatistica})\n",
    "\n",
    "# Construindo o DataFrame a partir da lista de dicionários\n",
    "estatisticas_df = pd.DataFrame(dados_estatisticas)\n",
    "\n",
    "# Exibindo o DataFrame final\n",
    "print(estatisticas_df)"
   ]
  }
 ],
 "metadata": {
  "kernelspec": {
   "display_name": "Python 3",
   "language": "python",
   "name": "python3"
  },
  "language_info": {
   "codemirror_mode": {
    "name": "ipython",
    "version": 3
   },
   "file_extension": ".py",
   "mimetype": "text/x-python",
   "name": "python",
   "nbconvert_exporter": "python",
   "pygments_lexer": "ipython3",
   "version": "3.11.8"
  }
 },
 "nbformat": 4,
 "nbformat_minor": 2
}
