{
 "cells": [
  {
   "cell_type": "code",
   "execution_count": 1,
   "metadata": {},
   "outputs": [
    {
     "name": "stdout",
     "output_type": "stream",
     "text": [
      "0.8252427184466019\n"
     ]
    }
   ],
   "source": [
    "PA = 0.4    #probabilidade de o beneficiario não estar com covid-19\n",
    "PA_c = 0.6  #probabildade de o beneficiário estar com covid-19\n",
    "PBA = 0.85  #probabilidade de o teste dar negativo, dado que o beneficiário não está covid-19\n",
    "PBA_c = 0.12#probabilidade de o teste dar negativo, dado que o beneficiário está com covid-19\n",
    "\n",
    "PBayesAB = (PBA*PA) / (PBA*PA+PBA_c*PA_c)\n",
    "print(PBayesAB)"
   ]
  }
 ],
 "metadata": {
  "kernelspec": {
   "display_name": "Python 3",
   "language": "python",
   "name": "python3"
  },
  "language_info": {
   "codemirror_mode": {
    "name": "ipython",
    "version": 3
   },
   "file_extension": ".py",
   "mimetype": "text/x-python",
   "name": "python",
   "nbconvert_exporter": "python",
   "pygments_lexer": "ipython3",
   "version": "3.11.8"
  }
 },
 "nbformat": 4,
 "nbformat_minor": 2
}
