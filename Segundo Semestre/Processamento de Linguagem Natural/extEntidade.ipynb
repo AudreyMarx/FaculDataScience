{
 "cells": [
  {
   "cell_type": "code",
   "execution_count": 1,
   "metadata": {},
   "outputs": [],
   "source": [
    "import spacy\n",
    "#!python -m spacy download pt_core_news_sm"
   ]
  },
  {
   "cell_type": "code",
   "execution_count": 2,
   "metadata": {},
   "outputs": [
    {
     "name": "stdout",
     "output_type": "stream",
     "text": [
      "Fernando = PER\n",
      "MG = LOC\n",
      "SP = LOC\n",
      "MASP = LOC\n",
      "Petrobrás = ORG\n",
      "Rio de Janeiro = LOC\n"
     ]
    }
   ],
   "source": [
    "\n",
    "nlp = spacy.load('pt_core_news_sm')\n",
    "text = \"Fernando viajou de MG para SP para visitar MASP. Depois foi visitar a sede da Petrobrás no Rio de Janeiro\"\n",
    "document = nlp(text)\n",
    "\n",
    "for ent in document.ents:\n",
    "    print(ent.text,'=',ent.label_)"
   ]
  }
 ],
 "metadata": {
  "kernelspec": {
   "display_name": "Python 3",
   "language": "python",
   "name": "python3"
  },
  "language_info": {
   "codemirror_mode": {
    "name": "ipython",
    "version": 3
   },
   "file_extension": ".py",
   "mimetype": "text/x-python",
   "name": "python",
   "nbconvert_exporter": "python",
   "pygments_lexer": "ipython3",
   "version": "3.12.1"
  }
 },
 "nbformat": 4,
 "nbformat_minor": 2
}
