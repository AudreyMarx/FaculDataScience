{
 "cells": [
  {
   "cell_type": "code",
   "execution_count": 1,
   "metadata": {},
   "outputs": [
    {
     "data": {
      "text/plain": [
       "{'id': '01113',\n",
       " 'descricao': 'CULTIVO DE CEREAIS',\n",
       " 'grupo': {'id': '011',\n",
       "  'descricao': 'PRODUÇÃO DE LAVOURAS TEMPORÁRIAS',\n",
       "  'divisao': {'id': '01',\n",
       "   'descricao': 'AGRICULTURA, PECUÁRIA E SERVIÇOS RELACIONADOS',\n",
       "   'secao': {'id': 'A',\n",
       "    'descricao': 'AGRICULTURA, PECUÁRIA, PRODUÇÃO FLORESTAL, PESCA E AQÜICULTURA'}}},\n",
       " 'observacoes': ['Esta classe compreende - o cultivo de alpiste, arroz, aveia, centeio, cevada, milho, milheto, painço, sorgo, trigo, trigo preto, triticale e outros cereais não especificados anteriormente',\n",
       "  'Esta classe compreende ainda - o beneficiamento de cereais em estabelecimento agrícola, quando atividade complementar ao cultivo\\r\\n- a produção de sementes de cereais, quando atividade complementar ao cultivo',\n",
       "  'Esta classe NÃO compreende - a produção de sementes certificadas dos cereais desta classe, inclusive modificadas geneticamente (01.41-5)\\r\\n- os serviços de preparação de terreno, cultivo e colheita realizados sob contrato (01.61-0)\\r\\n- o beneficiamento de cereais em estabelecimento agrícola realizado sob contrato (01.63-6)\\r\\n- o processamento ou beneficiamento de cereais em estabelecimento não-agrícola (grupo 10.4) e (grupo 10.6)\\r\\n- a produção de biocombustível (19.32-2)']}"
      ]
     },
     "execution_count": 1,
     "metadata": {},
     "output_type": "execute_result"
    }
   ],
   "source": [
    "import requests\n",
    "\n",
    "dados = requests.get('https://servicodados.ibge.gov.br/api/v2/cnae/classes').json() # resulta em uma lista de diconários\n",
    "dados[0] # exibindo o primeiro registro de dados (primeiro dicionário da lista)"
   ]
  },
  {
   "cell_type": "code",
   "execution_count": 3,
   "metadata": {},
   "outputs": [
    {
     "name": "stdout",
     "output_type": "stream",
     "text": [
      "673\n"
     ]
    }
   ],
   "source": [
    "# Quantidade distintas de atividades, basta saber o tamanho da lista.\n",
    "qtde_atividades_distintas = len(dados)\n",
    "print(qtde_atividades_distintas)"
   ]
  },
  {
   "cell_type": "code",
   "execution_count": 4,
   "metadata": {},
   "outputs": [
    {
     "data": {
      "text/plain": [
       "['PRODUÇÃO DE LAVOURAS TEMPORÁRIAS',\n",
       " 'PRODUÇÃO DE LAVOURAS TEMPORÁRIAS',\n",
       " 'PRODUÇÃO DE LAVOURAS TEMPORÁRIAS',\n",
       " 'PRODUÇÃO DE LAVOURAS TEMPORÁRIAS',\n",
       " 'PRODUÇÃO DE LAVOURAS TEMPORÁRIAS',\n",
       " 'PRODUÇÃO DE LAVOURAS TEMPORÁRIAS',\n",
       " 'PRODUÇÃO DE LAVOURAS TEMPORÁRIAS',\n",
       " 'HORTICULTURA E FLORICULTURA',\n",
       " 'HORTICULTURA E FLORICULTURA',\n",
       " 'EXTRAÇÃO DE MINERAIS METÁLICOS NÃO-FERROSOS']"
      ]
     },
     "execution_count": 4,
     "metadata": {},
     "output_type": "execute_result"
    }
   ],
   "source": [
    "# Criar uma lista dos grupos de atividades, extraindo a descrição de cada registro\n",
    "\n",
    "grupos = []\n",
    "for registro in dados:\n",
    "    grupos.append(registro['grupo']['descricao'])\n",
    "grupos[:10]"
   ]
  },
  {
   "cell_type": "code",
   "execution_count": 5,
   "metadata": {},
   "outputs": [
    {
     "name": "stdout",
     "output_type": "stream",
     "text": [
      "285\n"
     ]
    }
   ],
   "source": [
    "# A partir da lista, podemos extrair a quantidade de grupos de atividades\n",
    "qtde_grupos_distintos = len(set(grupos)) # o construtor set cria uma estrutura de dados removendo as duplicações.\n",
    "print(qtde_grupos_distintos)"
   ]
  },
  {
   "cell_type": "code",
   "execution_count": 6,
   "metadata": {},
   "outputs": [
    {
     "data": {
      "text/plain": [
       "[('REPARAÇÃO E MANUTENÇÃO DE EQUIPAMENTOS DE INFORMÁTICA E COMUNICAÇÃO', 2),\n",
       " ('OPERADORAS DE TELEVISÃO POR ASSINATURA', 3),\n",
       " ('ATIVIDADES DE ASSISTÊNCIA SOCIAL PRESTADAS EM RESIDÊNCIAS COLETIVAS E PARTICULARES',\n",
       "  1),\n",
       " ('FABRICAÇÃO DE EQUIPAMENTO BÉLICO PESADO, ARMAS E MUNIÇÕES', 1),\n",
       " ('FABRICAÇÃO DE EQUIPAMENTOS E APARELHOS ELÉTRICOS NÃO ESPECIFICADOS ANTERIORMENTE',\n",
       "  1)]"
      ]
     },
     "execution_count": 6,
     "metadata": {},
     "output_type": "execute_result"
    }
   ],
   "source": [
    "# Resultado é uma lista de tuplas. Cria uma nova lista com o grupo e a quantidade de atividades pertencentes a ele\n",
    "\n",
    "grupos_count = [(grupo, grupos.count(grupo)) for grupo in set(grupos)]\n",
    "grupos_count[:5]"
   ]
  },
  {
   "cell_type": "code",
   "execution_count": 9,
   "metadata": {},
   "outputs": [],
   "source": [
    "# Por conveniência, transformamos a lista em um dicionário\n",
    "\n",
    "grupos_count = dict(grupos_count)\n",
    "#print(grupos_count)"
   ]
  },
  {
   "cell_type": "code",
   "execution_count": 11,
   "metadata": {},
   "outputs": [
    {
     "name": "stdout",
     "output_type": "stream",
     "text": [
      "1\n"
     ]
    },
    {
     "data": {
      "text/plain": [
       "['REPRESENTANTES COMERCIAIS E AGENTES DO COMÉRCIO, EXCETO DE VEÍCULOS AUTOMOTORES E MOTOCICLETAS']"
      ]
     },
     "execution_count": 11,
     "metadata": {},
     "output_type": "execute_result"
    }
   ],
   "source": [
    "# A partir do dicionário vamos descobrir qual (ou quais) grupos possuem mais atividades\n",
    "\n",
    "valor_maximo = max(grupos_count.values())\n",
    "grupos_mais_atividades = [chave for (chave, valor) in grupos_count.items() if valor == valor_maximo]\n",
    "print(len(grupos_mais_atividades))\n",
    "grupos_mais_atividades\n"
   ]
  },
  {
   "cell_type": "code",
   "execution_count": 15,
   "metadata": {},
   "outputs": [],
   "source": [
    "import requests\n",
    "from datetime import datetime\n",
    "\n",
    "class ETL:\n",
    "    def __init__(self):\n",
    "        self.url = None\n",
    "\n",
    "    def extract_cnae_data(self, url):\n",
    "        self.url = url\n",
    "        data_extracao = datetime.today().strftime(\"%Y/%m/%d - %H:%M:%S\")\n",
    "        # Faz extração\n",
    "        dados = requests.get(self.url).json()\n",
    "         # Extrai os grupos dos registros\n",
    "        grupos = []\n",
    "\n",
    "        for registro in dados:\n",
    "            grupos.append(registro['grupo']['descricao'])\n",
    "\n",
    "        # Cria uma lista de tuplas (grupo, quantidade_atividades)\n",
    "        grupos_count = [(grupo, grupos.count(grupo)) for grupo in set(grupos)]\n",
    "        grupos_count = dict(grupos_count)  # transforma a lista em dicionário\n",
    "        valor_maximo = max(grupos_count.values())  # Captura o valor máximo de atividades\n",
    "\n",
    "        # Gera uma lista com os grupos que possuem a quantidade máxima de atividades\n",
    "        grupos_mais_atividades = [chave for (chave, valor) in grupos_count.items() if valor == valor_maximo]        \n",
    "        # informações\n",
    "        qtde_atividades_distintas = len(dados)\n",
    "        qtde_grupos_distintos = len(set(grupos))        \n",
    "        print(f\"Dados extraídos em: {data_extracao}\")\n",
    "        print(f\"Quantidade de atividades distintas = {qtde_atividades_distintas}\")\n",
    "        print(f\"Quantidade de grupos distintos = {qtde_grupos_distintos}\")\n",
    "        print(f\"Grupos com o maior número de atividades = {grupos_mais_atividades}, atividades = {valor_maximo}\")        \n",
    "        \n",
    "        return None"
   ]
  },
  {
   "cell_type": "code",
   "execution_count": 17,
   "metadata": {},
   "outputs": [
    {
     "name": "stdout",
     "output_type": "stream",
     "text": [
      "Dados extraídos em: 2024/01/20 - 16:44:22\n",
      "Quantidade de atividades distintas = 673\n",
      "Quantidade de grupos distintos = 285\n",
      "Grupos com o maior número de atividades = ['REPRESENTANTES COMERCIAIS E AGENTES DO COMÉRCIO, EXCETO DE VEÍCULOS AUTOMOTORES E MOTOCICLETAS'], atividades = 9\n"
     ]
    }
   ],
   "source": [
    "# Usando a classe ETL\n",
    "\n",
    "ETL().extract_cnae_data('https://servicodados.ibge.gov.br/api/v2/cnae/classes')"
   ]
  }
 ],
 "metadata": {
  "kernelspec": {
   "display_name": "Python 3",
   "language": "python",
   "name": "python3"
  },
  "language_info": {
   "codemirror_mode": {
    "name": "ipython",
    "version": 3
   },
   "file_extension": ".py",
   "mimetype": "text/x-python",
   "name": "python",
   "nbconvert_exporter": "python",
   "pygments_lexer": "ipython3",
   "version": "3.11.7"
  }
 },
 "nbformat": 4,
 "nbformat_minor": 2
}
