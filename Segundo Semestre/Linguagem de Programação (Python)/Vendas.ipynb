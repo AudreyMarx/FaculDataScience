{
 "cells": [
  {
   "cell_type": "code",
   "execution_count": 1,
   "metadata": {},
   "outputs": [],
   "source": [
    "class Cliente:\n",
    "    def __init__(self):\n",
    "        self.nome = None\n",
    "        self.email = None\n",
    "        self.telefone = None\n",
    "        self._cupom_desconto = 0\n",
    "\n",
    "    def get_cupom_desconto(self):\n",
    "        return self._cupom_desconto\n",
    "    \n",
    "    def realizar_compras(self, lista_itens):\n",
    "        pass"
   ]
  },
  {
   "cell_type": "code",
   "execution_count": 2,
   "metadata": {},
   "outputs": [],
   "source": [
    "class ClienteVipPF(Cliente):\n",
    "    def __init__(self):\n",
    "        super().__init__()\n",
    "        self._cupom_desconto = 0.2\n",
    "\n",
    "    def realizar_compras(self, lista_itens):\n",
    "        return f\"Quantidade total de itens comprados = {len(lista_itens)}\""
   ]
  },
  {
   "cell_type": "code",
   "execution_count": 3,
   "metadata": {},
   "outputs": [],
   "source": [
    "class ClientePF(Cliente):\n",
    "    def __init__(self):\n",
    "        super().__init__()\n",
    "        self._cupom_desconto = 0.05\n",
    "\n",
    "    def realizar_compras(self, lista_itens):\n",
    "        if len(lista_itens) <= 20:\n",
    "            return f\"Quantidade total de itens comprados = {len(lista_itens)}\"\n",
    "        else:\n",
    "            return \"Quantidade de itens superior ao limite permitido.\""
   ]
  },
  {
   "cell_type": "code",
   "execution_count": 4,
   "metadata": {},
   "outputs": [],
   "source": [
    "class ClientePJ(Cliente):\n",
    "    def __init__(self):\n",
    "        super().__init__()\n",
    "        self._cupom_desconto = 0.1\n",
    "\n",
    "    def realizar_compras(self, lista_itens):\n",
    "        if len(lista_itens) <= 50:\n",
    "            return f\"Quantidade total de itens comprados = {len(lista_itens)}\"\n",
    "        else:\n",
    "            return \"Quantidade de itens superior ao limite permitido.\""
   ]
  },
  {
   "cell_type": "code",
   "execution_count": 6,
   "metadata": {},
   "outputs": [
    {
     "name": "stdout",
     "output_type": "stream",
     "text": [
      "0.2\n"
     ]
    },
    {
     "data": {
      "text/plain": [
       "'Quantidade total de itens comprados = 3'"
      ]
     },
     "execution_count": 6,
     "metadata": {},
     "output_type": "execute_result"
    }
   ],
   "source": [
    "cli1 = ClienteVipPF()\n",
    "cli1.nome = \"Maria\"\n",
    "print(cli1.get_cupom_desconto())\n",
    "cli1.realizar_compras(['item1', 'item2', 'item3'])"
   ]
  }
 ],
 "metadata": {
  "kernelspec": {
   "display_name": "Python 3",
   "language": "python",
   "name": "python3"
  },
  "language_info": {
   "codemirror_mode": {
    "name": "ipython",
    "version": 3
   },
   "file_extension": ".py",
   "mimetype": "text/x-python",
   "name": "python",
   "nbconvert_exporter": "python",
   "pygments_lexer": "ipython3",
   "version": "3.11.7"
  }
 },
 "nbformat": 4,
 "nbformat_minor": 2
}
