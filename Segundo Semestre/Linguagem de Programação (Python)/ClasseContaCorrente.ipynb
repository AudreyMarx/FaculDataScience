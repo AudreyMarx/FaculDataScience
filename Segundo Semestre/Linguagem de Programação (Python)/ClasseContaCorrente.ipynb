{
 "cells": [
  {
   "cell_type": "code",
   "execution_count": 1,
   "metadata": {},
   "outputs": [],
   "source": [
    "class ContaCorrente:\n",
    "    def __init__(self, nome):\n",
    "        self.nome = nome\n",
    "        self.email = None\n",
    "        self.telefone = None\n",
    "        self._saldo = 0\n",
    "\n",
    "    def _checar_saldo(self, valor):\n",
    "        return self._saldo >= valor\n",
    "    \n",
    "    def depositar(self, valor):\n",
    "        self._saldo += valor\n",
    "\n",
    "    def sacar(self, valor):\n",
    "        if self._checar_saldo(valor):\n",
    "            self._saldo -= valor\n",
    "            return True\n",
    "        else:\n",
    "            return False\n",
    "    def obter_saldo(self):\n",
    "        return self._saldo"
   ]
  },
  {
   "cell_type": "code",
   "execution_count": 2,
   "metadata": {},
   "outputs": [],
   "source": [
    "class ContaPF(ContaCorrente):\n",
    "    def __init__(self, nome, cpf):\n",
    "        super().__init__(nome)\n",
    "        self.cpf = cpf\n",
    "\n",
    "    def solicitar_emprestimo(self, valor):\n",
    "        return self.obter_saldo() >= 500"
   ]
  },
  {
   "cell_type": "code",
   "execution_count": 3,
   "metadata": {},
   "outputs": [],
   "source": [
    "class ContaPJ(ContaCorrente):\n",
    "    def __init__(self, nome, cnpj):\n",
    "        super().__init__(nome)\n",
    "        self.cnpj = cnpj\n",
    "\n",
    "    def sacar_emprestimo(self, valor):\n",
    "        return valor <= 5000"
   ]
  },
  {
   "cell_type": "code",
   "execution_count": 4,
   "metadata": {},
   "outputs": [
    {
     "name": "stdout",
     "output_type": "stream",
     "text": [
      "Saldo atual é 1000\n",
      "Receberá empréstimo =  True\n",
      "Saldo atual é 200\n",
      "Receberá empréstimo =  False\n"
     ]
    }
   ],
   "source": [
    "conta_pf1 = ContaPF(\"João\", '111.111.111-11')\n",
    "\n",
    "conta_pf1.depositar(1000)\n",
    "print('Saldo atual é', conta_pf1.obter_saldo())\n",
    "print('Receberá empréstimo = ', conta_pf1.solicitar_emprestimo(2000))\n",
    "\n",
    "conta_pf1.sacar(800)\n",
    "print('Saldo atual é', conta_pf1.obter_saldo())\n",
    "print('Receberá empréstimo = ', conta_pf1.solicitar_emprestimo(2000))"
   ]
  },
  {
   "cell_type": "code",
   "execution_count": 5,
   "metadata": {},
   "outputs": [
    {
     "name": "stdout",
     "output_type": "stream",
     "text": [
      "Saldo atual é 0\n",
      "Receberá empréstimo =  True\n"
     ]
    }
   ],
   "source": [
    "conta_pj1 = ContaPJ(\"Empresa A\", \"11.111.111/1111-11\")\n",
    "print('Saldo atual é', conta_pj1.obter_saldo())\n",
    "print('Receberá empréstimo = ', conta_pj1.sacar_emprestimo(3000))"
   ]
  }
 ],
 "metadata": {
  "kernelspec": {
   "display_name": "Python 3",
   "language": "python",
   "name": "python3"
  },
  "language_info": {
   "codemirror_mode": {
    "name": "ipython",
    "version": 3
   },
   "file_extension": ".py",
   "mimetype": "text/x-python",
   "name": "python",
   "nbconvert_exporter": "python",
   "pygments_lexer": "ipython3",
   "version": "3.11.7"
  }
 },
 "nbformat": 4,
 "nbformat_minor": 2
}
