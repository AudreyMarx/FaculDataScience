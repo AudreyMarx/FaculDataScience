{
 "cells": [
  {
   "cell_type": "code",
   "execution_count": 1,
   "metadata": {},
   "outputs": [
    {
     "name": "stdout",
     "output_type": "stream",
     "text": [
      "PCIEthernet é uma PCI? True\n",
      "PCIEthernet é uma Ethernet? True\n",
      "PCIEthernet é uma USB? False\n",
      "\n",
      "USBWireless é uma USB? True\n",
      "USBWireless é uma Wireless? True\n",
      "USBWireless é uma Ethernet? True\n",
      "USBWireless é uma PCI? False\n"
     ]
    }
   ],
   "source": [
    "class Ethernet():\n",
    "    def __init__(self, name, mac_address):\n",
    "        self.name = name\n",
    "        self.mac_address = mac_address\n",
    "\n",
    "class PCI():\n",
    "    def __init__(self, bus, vendor):\n",
    "        self.bus = bus\n",
    "        self.vendor = vendor\n",
    "\n",
    "class USB():\n",
    "    def __init__(self, device):\n",
    "        self.device = device\n",
    "\n",
    "class Wireless(Ethernet):\n",
    "    def __init__(self, name, mac_address):\n",
    "        Ethernet.__init__(self, name, mac_address)\n",
    "\n",
    "class PCIEthernet(PCI, Ethernet):\n",
    "    def __init__(self, bus, vendor, name, mac_address):\n",
    "        PCI.__init__(self, bus, vendor)\n",
    "        Ethernet.__init__(self, name, mac_address)\n",
    "\n",
    "class USBWireless(USB, Wireless):\n",
    "    def __init__(self, device, name, mac_address):\n",
    "        USB.__init__(self, device)\n",
    "        Wireless.__init__(self, name, mac_address)\n",
    "\n",
    "eth0 = PCIEthernet('pci :0:0:1', 'realtek', 'eth0', '00:11:22:33:44')\n",
    "wlan0 = USBWireless('usb0', 'wlan0', '00:33:44:55:66')\n",
    "print('PCIEthernet é uma PCI?', isinstance(eth0, PCI))\n",
    "print('PCIEthernet é uma Ethernet?', isinstance(eth0, Ethernet))\n",
    "print('PCIEthernet é uma USB?', isinstance(eth0, USB))\n",
    "print('\\nUSBWireless é uma USB?', isinstance(wlan0, USB))\n",
    "print('USBWireless é uma Wireless?', isinstance(wlan0, Wireless))\n",
    "print('USBWireless é uma Ethernet?', isinstance(wlan0, Ethernet))\n",
    "print('USBWireless é uma PCI?', isinstance(wlan0, PCI))"
   ]
  }
 ],
 "metadata": {
  "kernelspec": {
   "display_name": "Python 3",
   "language": "python",
   "name": "python3"
  },
  "language_info": {
   "codemirror_mode": {
    "name": "ipython",
    "version": 3
   },
   "file_extension": ".py",
   "mimetype": "text/x-python",
   "name": "python",
   "nbconvert_exporter": "python",
   "pygments_lexer": "ipython3",
   "version": "3.11.7"
  }
 },
 "nbformat": 4,
 "nbformat_minor": 2
}
