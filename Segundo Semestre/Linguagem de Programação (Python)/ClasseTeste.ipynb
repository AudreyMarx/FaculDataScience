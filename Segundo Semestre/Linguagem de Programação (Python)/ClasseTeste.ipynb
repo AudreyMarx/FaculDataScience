{
 "cells": [
  {
   "cell_type": "code",
   "execution_count": 13,
   "metadata": {},
   "outputs": [],
   "source": [
    "class PrimeiraClasse:\n",
    "\n",
    "    def imprimir_mensagem(self, nome): # Criando um método \n",
    "        print(f\"Olá {nome}, seja bem vindo!\")"
   ]
  },
  {
   "cell_type": "code",
   "execution_count": 14,
   "metadata": {},
   "outputs": [
    {
     "name": "stdout",
     "output_type": "stream",
     "text": [
      "Olá João, seja bem vindo!\n"
     ]
    }
   ],
   "source": [
    "objeto1 = PrimeiraClasse() # Instanciando um objeto do tipo PrimeiraClasse \n",
    "objeto1.imprimir_mensagem('João') # Invocando o método"
   ]
  },
  {
   "cell_type": "code",
   "execution_count": 15,
   "metadata": {},
   "outputs": [],
   "source": [
    "class Calculadora:\n",
    "    def somar(self, n1, n2):\n",
    "        return n1 + n2\n",
    "    def subtrair(self, n1, n2):\n",
    "        return n1 - n2\n",
    "    def multiplicar(self, n1, n2):\n",
    "        return n1 * n2\n",
    "    def dividir(self, n1, n2):\n",
    "        return n1 / n2\n",
    "    def dividir_resto(self, n1, n2):\n",
    "        return n1 % n2"
   ]
  },
  {
   "cell_type": "code",
   "execution_count": 16,
   "metadata": {},
   "outputs": [
    {
     "name": "stdout",
     "output_type": "stream",
     "text": [
      "Soma: 7\n",
      "Subtração: 6\n",
      "Multiplicação: 8\n",
      "Divisão: 3.2\n",
      "Resto da divisão: 1\n"
     ]
    }
   ],
   "source": [
    "calc = Calculadora()\n",
    "\n",
    "print('Soma:', calc.somar(4, 3))\n",
    "print('Subtração:', calc.subtrair(13, 7))\n",
    "print('Multiplicação:', calc.multiplicar(2, 4))\n",
    "print('Divisão:', calc.dividir(16, 5))\n",
    "print('Resto da divisão:', calc.dividir_resto(7, 3))"
   ]
  },
  {
   "cell_type": "code",
   "execution_count": 17,
   "metadata": {},
   "outputs": [],
   "source": [
    "class Televisao:\n",
    "    def __init__(self):\n",
    "        self.volume = 10\n",
    "    def aumentar_volume(self):\n",
    "        self.volume += 1\n",
    "    def diminuir_volume(self):\n",
    "        self.volume -= 1"
   ]
  },
  {
   "cell_type": "code",
   "execution_count": 18,
   "metadata": {},
   "outputs": [
    {
     "name": "stdout",
     "output_type": "stream",
     "text": [
      "Volume ao ligar a tv =  10\n",
      "Volume atual =  11\n"
     ]
    }
   ],
   "source": [
    "tv = Televisao()\n",
    "print(\"Volume ao ligar a tv = \", tv.volume)\n",
    "tv.aumentar_volume()\n",
    "print(\"Volume atual = \", tv.volume)"
   ]
  }
 ],
 "metadata": {
  "kernelspec": {
   "display_name": "Python 3",
   "language": "python",
   "name": "python3"
  },
  "language_info": {
   "codemirror_mode": {
    "name": "ipython",
    "version": 3
   },
   "file_extension": ".py",
   "mimetype": "text/x-python",
   "name": "python",
   "nbconvert_exporter": "python",
   "pygments_lexer": "ipython3",
   "version": "3.11.7"
  }
 },
 "nbformat": 4,
 "nbformat_minor": 2
}
