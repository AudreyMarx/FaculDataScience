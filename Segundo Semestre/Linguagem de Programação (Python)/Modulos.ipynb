{
 "cells": [
  {
   "cell_type": "code",
   "execution_count": 2,
   "metadata": {},
   "outputs": [
    {
     "name": "stdout",
     "output_type": "stream",
     "text": [
      "100\n",
      "10\n",
      "[38716, 89672, 50779, 26409, 11254, 42515, 83452, 48894, 76712, 31555, 5209, 72954]\n"
     ]
    }
   ],
   "source": [
    "import random\n",
    "\n",
    "print(random.randint(0, 100))   #retorna um valor inteiro aleatório, de modo que esse número esteja entre 0, 100.\n",
    "print(random.choice([1, 10, -1, 100]))  #extrai um valor de forma aleatória de uma certa sequência ([1, 10, -1, 100]).\n",
    "print(random.sample(range(100000), k=12))   #retorna uma lista com k elementos, extraídos da população (100000)."
   ]
  },
  {
   "cell_type": "code",
   "execution_count": 5,
   "metadata": {},
   "outputs": [
    {
     "name": "stdout",
     "output_type": "stream",
     "text": [
      "getcwd: c:\\Users\\AudreyMarques\\GitHub\\FaculDataScience\\Segundo Semestre\\Linguagem de Programação (Python)\n",
      "listdir path: ['BubbleSort.py', 'CalcularValor.py', 'CalcularValor2.py', 'ClasseContaCorrente.ipynb', 'ClasseTeste.ipynb', 'ConstrHerançaSobrescrita.ipynb', 'CPFvalidos.py', 'CPF_MergeSort.py', 'EmailsEnviadosOuNao.py', 'HerançaClass.ipynb', 'HerançaMultipla.ipynb', 'MergeSort.py', 'Modulos.ipynb', 'NumpyArray,py', 'QuickSort.py', 'SelectionSort.py', 'Vendas.ipynb']\n",
      "listdir: ['BubbleSort.py', 'CalcularValor.py', 'CalcularValor2.py', 'ClasseContaCorrente.ipynb', 'ClasseTeste.ipynb', 'ConstrHerançaSobrescrita.ipynb', 'CPFvalidos.py', 'CPF_MergeSort.py', 'EmailsEnviadosOuNao.py', 'HerançaClass.ipynb', 'HerançaMultipla.ipynb', 'MergeSort.py', 'Modulos.ipynb', 'NumpyArray,py', 'QuickSort.py', 'SelectionSort.py', 'Vendas.ipynb']\n",
      "cpu_count: 12\n",
      "getlogin: AudreyMarques\n",
      "getenv: c:\\Users\\AudreyMarques\\AppData\\Local\\Microsoft\\WindowsApps;c:\\Users\\AudreyMarques\\AppData\\Local\\Packages\\PythonSoftwareFoundation.Python.3.11_qbz5n2kfra8p0\\LocalCache\\local-packages\\Python311\\Scripts;C:\\Program Files\\Common Files\\Oracle\\Java\\javapath;C:\\Windows\\system32;C:\\Windows;C:\\Windows\\System32\\Wbem;C:\\Windows\\System32\\WindowsPowerShell\\v1.0\\;C:\\Windows\\System32\\OpenSSH\\;C:\\Program Files (x86)\\Microsoft SQL Server\\160\\Tools\\Binn\\;C:\\Program Files\\Microsoft SQL Server\\160\\Tools\\Binn\\;C:\\Program Files\\Microsoft SQL Server\\Client SDK\\ODBC\\170\\Tools\\Binn\\;C:\\Program Files\\Microsoft SQL Server\\160\\DTS\\Binn\\;C:\\Program Files\\Git\\cmd;C:\\Users\\AudreyMarques\\AppData\\Local\\Programs\\Python\\Python312\\Scripts\\;C:\\Users\\AudreyMarques\\AppData\\Local\\Programs\\Python\\Python312\\;C:\\Program Files\\MySQL\\MySQL Shell 8.0\\bin\\;C:\\Users\\AudreyMarques\\AppData\\Local\\Microsoft\\WindowsApps;;C:\\Users\\AudreyMarques\\AppData\\Local\\Programs\\Microsoft VS Code\\bin;C:\\Program Files\\Common Files\\Oracle\\Java\\javapath;C:\\Windows\\system32;C:\\Windows;C:\\Windows\\System32\\Wbem;C:\\Windows\\System32\\WindowsPowerShell\\v1.0\\;C:\\Windows\\System32\\OpenSSH\\;C:\\Program Files (x86)\\Microsoft SQL Server\\160\\Tools\\Binn\\;C:\\Program Files\\Microsoft SQL Server\\160\\Tools\\Binn\\;C:\\Program Files\\Microsoft SQL Server\\Client SDK\\ODBC\\170\\Tools\\Binn\\;C:\\Program Files\\Microsoft SQL Server\\160\\DTS\\Binn\\;C:\\Program Files\\Git\\cmd;C:\\Users\\AudreyMarques\\AppData\\Local\\Programs\\Python\\Python312\\Scripts\\;C:\\Users\\AudreyMarques\\AppData\\Local\\Programs\\Python\\Python312\\;C:\\Program Files\\MySQL\\MySQL Shell 8.0\\bin\\;C:\\Users\\AudreyMarques\\AppData\\Local\\Microsoft\\WindowsApps;;C:\\Users\\AudreyMarques\\AppData\\Local\\Programs\\Microsoft VS Code\\bin\n",
      "getpid: 21792\n"
     ]
    }
   ],
   "source": [
    "import os\n",
    "\n",
    "print(\"getcwd:\", os.getcwd())  #retorna uma string com o caminho do diretório de trabalho.\n",
    "print(\"listdir path:\",os.listdir(path=('.')))   #retorna uma lista com todas as entradas de um diretório. .\n",
    "print(\"listdir:\", os.listdir()) #Se não for especificado um caminho, então a busca é realizada em outro diretório de trabalho\n",
    "print(\"cpu_count:\", os.cpu_count())   #retorna um inteiro com o número de CPUs do sistema.\n",
    "print(\"getlogin:\", os.getlogin())    #retorna o nome do usário logado.\n",
    "print(\"getenv:\", os.getenv(key='path'))   #retorna uma string com o conteúdo de uma variável de ambiente especificada na key.\n",
    "print(\"getpid:\", os.getpid())  #retorna o id do processo atual.\n"
   ]
  },
  {
   "cell_type": "code",
   "execution_count": 6,
   "metadata": {},
   "outputs": [
    {
     "name": "stdout",
     "output_type": "stream",
     "text": [
      "meuArquivo\n",
      "meuArquivo\n",
      "meuArquivo\n"
     ]
    }
   ],
   "source": [
    "import re\n",
    "\n",
    "#re.search(pattern, string, flags=0)    varre a string procurando o primeiro local onde o padrão de expressão regular\n",
    "                                # produz uma correspondência e o retorna. Retorna None se nenhuma correspondência é achada.\n",
    "#re.match(pattern, string, flags=0):    procura por um padrão no começo da string. Retorna None se a sequência não corresponder ao padrão.\n",
    "#re.split(pattern, string, maxsplit=0, flags=0):    divide uma string pelas ocorrências do padrão.\n",
    "\n",
    "string = 'meuArquivo_20-01-2020.py'\n",
    "padrao = \"[a-zA-Z]*\"  #expressão regular para buscar por sequências de letras maiúsculas e minúsculas [a-zA-Z], que pode variar de tamanho 0 até N (*)\n",
    "texto1 = re.search(padrao, string).group()\n",
    "texto2 = re.match(padrao, string).group()\n",
    "texto3 = re.split(\"_\", string)[0]\n",
    "\n",
    "print(texto1)\n",
    "print(texto2)\n",
    "print(texto3)"
   ]
  },
  {
   "cell_type": "code",
   "execution_count": 12,
   "metadata": {},
   "outputs": [
    {
     "name": "stdout",
     "output_type": "stream",
     "text": [
      "2024-01-20 11:57:01.629523\n",
      "2024-01-19 11:57:01.629523\n",
      "2024-01-13 11:57:01.629523\n",
      "2024-01-20 11:57:01.629523\n",
      "2024-01-20 09:57:01.629523 \n",
      "\n",
      "20-01-2024\n",
      "19 de January de 2024 \n",
      "\n",
      "11/06/2019 15:30\n",
      "2019-06-11 15:30:00\n"
     ]
    }
   ],
   "source": [
    "import datetime as dt\n",
    "\n",
    "# Operações com data e hora\n",
    "hoje = dt.datetime.today()\n",
    "ontem = hoje - dt.timedelta(days=1)\n",
    "uma_semana_atras = hoje - dt.timedelta(weeks=1)\n",
    "agora = dt.datetime.now()\n",
    "duas_horas_atras = agora - dt.timedelta(hours=2)\n",
    "\n",
    "print(hoje)\n",
    "print(ontem)\n",
    "print(uma_semana_atras)\n",
    "print(agora)\n",
    "print(duas_horas_atras, \"\\n\")\n",
    "\n",
    "# Formatação\n",
    "#https://docs.python.org/3/library/datetime.html#strftime-strptime-behavior    -para verificar as possibilidades de formatação.\n",
    "hoje_formatado = dt.datetime.strftime(hoje, \"%d-%m-%Y\")\n",
    "ontem_formatado = dt.datetime.strftime(ontem, \"%d de %B de %Y\")\n",
    "\n",
    "print(hoje_formatado)\n",
    "print(ontem_formatado, \"\\n\")\n",
    "\n",
    "# Converção de string para data\n",
    "data_string = '11/06/2019 15:30'\n",
    "data_dt = dt.datetime.strptime(data_string, \"%d/%m/%Y %H:%M\")\n",
    "\n",
    "print(data_string)\n",
    "print(data_dt)"
   ]
  }
 ],
 "metadata": {
  "kernelspec": {
   "display_name": "Python 3",
   "language": "python",
   "name": "python3"
  },
  "language_info": {
   "codemirror_mode": {
    "name": "ipython",
    "version": 3
   },
   "file_extension": ".py",
   "mimetype": "text/x-python",
   "name": "python",
   "nbconvert_exporter": "python",
   "pygments_lexer": "ipython3",
   "version": "3.11.7"
  }
 },
 "nbformat": 4,
 "nbformat_minor": 2
}
