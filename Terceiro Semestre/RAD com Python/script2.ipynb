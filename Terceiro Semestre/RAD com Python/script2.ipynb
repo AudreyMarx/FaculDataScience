{
 "cells": [
  {
   "cell_type": "code",
   "execution_count": null,
   "id": "ca27f195",
   "metadata": {},
   "outputs": [],
   "source": [
    "#Neste script contém exemplos de metodos de leitura e escrita em um arquivo\n",
    "# e como iterar sobre os dados"
   ]
  },
  {
   "cell_type": "code",
   "execution_count": 5,
   "id": "4514f0c2",
   "metadata": {},
   "outputs": [
    {
     "name": "stdout",
     "output_type": "stream",
     "text": [
      "Tipo do conteúdo:  <class 'str'>\n",
      "Conteúdo retornado pelo read: \n",
      "'Olá, mundo.\\nOlá, EAD.'\n"
     ]
    }
   ],
   "source": [
    "#Read()\n",
    "#Retorna todo o conteúdo de um arquivo como uma única string.\n",
    "arquivo = open('dados1.txt', 'r', encoding='utf-8')\n",
    "\n",
    "conteudo = arquivo.read()\n",
    "print(\"Tipo do conteúdo: \", type(conteudo))\n",
    "print(\"Conteúdo retornado pelo read: \")\n",
    "print(repr(conteudo))\n",
    "arquivo.close()"
   ]
  },
  {
   "cell_type": "code",
   "execution_count": 6,
   "id": "567af827",
   "metadata": {},
   "outputs": [
    {
     "name": "stdout",
     "output_type": "stream",
     "text": [
      "Tipo do conteúdo:  <class 'str'>\n",
      "Conteúdo retornado pelo readline: \n",
      "'Olá, mundo.\\n'\n",
      "Próximo conteúdo retornado pelo readline: \n",
      "'Olá, EAD.'\n"
     ]
    }
   ],
   "source": [
    "#Readline()\n",
    "\"\"\"Retorna uma linha de arquivo, incluindo caracteres de final (\\n ou \\r\\n), e avança\n",
    " o cursor para a próxima.\"\"\"\n",
    "\n",
    "arquivo = open('dados1.txt', 'r', encoding='utf-8')\n",
    "\n",
    "conteudo = arquivo.readline()\n",
    "print(\"Tipo do conteúdo: \", type(conteudo))\n",
    "print(\"Conteúdo retornado pelo readline: \")\n",
    "print(repr(conteudo))\n",
    "proximo_conteudo = arquivo.readline()\n",
    "print(\"Próximo conteúdo retornado pelo readline: \")\n",
    "print(repr(proximo_conteudo))\n",
    "arquivo.close()"
   ]
  },
  {
   "cell_type": "code",
   "execution_count": 7,
   "id": "69dd7b01",
   "metadata": {},
   "outputs": [
    {
     "name": "stdout",
     "output_type": "stream",
     "text": [
      "Tipo do conteúdo:  <class 'list'>\n",
      "Conteúdo retornado pelo readlines: \n",
      "['Olá, mundo.\\n', 'Olá, EAD.']\n"
     ]
    }
   ],
   "source": [
    "#Readlines()\n",
    "#Retorna uma lista em que cada item da lista é uma linha do arquivo.\n",
    "\n",
    "arquivo = open('dados1.txt', 'r', encoding='utf-8')\n",
    "\n",
    "conteudo = arquivo.readlines()\n",
    "print(\"Tipo do conteúdo: \", type(conteudo))\n",
    "print(\"Conteúdo retornado pelo readlines: \")\n",
    "print(repr(conteudo))\n",
    "arquivo.close()"
   ]
  },
  {
   "cell_type": "code",
   "execution_count": null,
   "id": "b2a599a0",
   "metadata": {},
   "outputs": [],
   "source": []
  },
  {
   "cell_type": "code",
   "execution_count": 9,
   "id": "5d6fd4d3",
   "metadata": {},
   "outputs": [
    {
     "name": "stdout",
     "output_type": "stream",
     "text": [
      "Iterando sobre o arquivo:\n",
      "'Olá, mundo.\\n'\n",
      "'Olá, EAD.'\n"
     ]
    }
   ],
   "source": [
    "#iterar sobre os dados\n",
    "arquivo = open('dados1.txt', 'r', encoding='utf-8')\n",
    "print(\"Iterando sobre o arquivo:\")\n",
    "for linha in arquivo:   #cada iteração, recebemos uma nova linha\n",
    "    print(repr(linha))\n",
    "\n",
    "arquivo.close()"
   ]
  }
 ],
 "metadata": {
  "kernelspec": {
   "display_name": "Python 3",
   "language": "python",
   "name": "python3"
  },
  "language_info": {
   "codemirror_mode": {
    "name": "ipython",
    "version": 3
   },
   "file_extension": ".py",
   "mimetype": "text/x-python",
   "name": "python",
   "nbconvert_exporter": "python",
   "pygments_lexer": "ipython3",
   "version": "3.10.2"
  }
 },
 "nbformat": 4,
 "nbformat_minor": 5
}
